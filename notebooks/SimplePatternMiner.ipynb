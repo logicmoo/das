{
 "cells": [
  {
   "cell_type": "code",
   "execution_count": 1,
   "id": "3fa7b2ec",
   "metadata": {},
   "outputs": [
    {
     "name": "stdout",
     "output_type": "stream",
     "text": [
      "Log initialized. Log file: /tmp/das.log\n"
     ]
    }
   ],
   "source": [
    "from das.distributed_atom_space import DistributedAtomSpace, QueryOutputFormat\n",
    "from das.pattern_matcher.pattern_matcher import PatternMatchingAnswer, OrderedAssignment, UnorderedAssignment, CompositeAssignment, Node, Link, Variable, Not, And, Or\n",
    "import warnings\n",
    "warnings.filterwarnings('ignore')\n",
    "das = DistributedAtomSpace()\n",
    "db = das.db\n",
    "db.prefetch()"
   ]
  },
  {
   "cell_type": "code",
   "execution_count": null,
   "id": "b13079c5",
   "metadata": {},
   "outputs": [],
   "source": []
  }
 ],
 "metadata": {
  "kernelspec": {
   "display_name": "Python 3 (ipykernel)",
   "language": "python",
   "name": "python3"
  },
  "language_info": {
   "codemirror_mode": {
    "name": "ipython",
    "version": 3
   },
   "file_extension": ".py",
   "mimetype": "text/x-python",
   "name": "python",
   "nbconvert_exporter": "python",
   "pygments_lexer": "ipython3",
   "version": "3.9.15"
  }
 },
 "nbformat": 4,
 "nbformat_minor": 5
}
